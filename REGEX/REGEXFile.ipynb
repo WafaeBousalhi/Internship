{
 "cells": [
  {
   "cell_type": "raw",
   "id": "9835f2db",
   "metadata": {},
   "source": [
    "Question 1"
   ]
  },
  {
   "cell_type": "code",
   "execution_count": 279,
   "id": "5d1fa876",
   "metadata": {},
   "outputs": [
    {
     "name": "stdout",
     "output_type": "stream",
     "text": [
      "Python:Exercises::PHP:exercises:\n"
     ]
    }
   ],
   "source": [
    "import regex as re\n",
    "string1 = \"Python Exercises, PHP exercises.\"\n",
    "pattern1 = r'[,\\.\\s]'\n",
    "answer1 = re.sub(pattern,':',string)\n",
    "print(answer1)"
   ]
  },
  {
   "cell_type": "raw",
   "id": "b137adb5",
   "metadata": {},
   "source": [
    "Question 2"
   ]
  },
  {
   "cell_type": "code",
   "execution_count": 328,
   "id": "dbfb2322",
   "metadata": {},
   "outputs": [
    {
     "name": "stdout",
     "output_type": "stream",
     "text": [
      "0      hello world\n",
      "1             test\n",
      "2    four five six\n",
      "Name: Summary, dtype: object\n"
     ]
    }
   ],
   "source": [
    "import pandas as pd\n",
    "dict1 = {'Summary':['hello, world!', 'XXXXX test', '123four, five:; six...']}\n",
    "df2 = pd.DataFrame(dict1)\n",
    "pattern2 = r'[^a-z\\s]+'\n",
    "\n",
    "answer2 = df2['Summary'].str.replace(pattern2 , lambda m : '', regex = True )\n",
    "print(answer2)"
   ]
  },
  {
   "cell_type": "raw",
   "id": "f69da4b5",
   "metadata": {},
   "source": [
    "Question 3"
   ]
  },
  {
   "cell_type": "code",
   "execution_count": 532,
   "id": "6674e79d",
   "metadata": {},
   "outputs": [
    {
     "name": "stdout",
     "output_type": "stream",
     "text": [
      "['someone', 'that', 'eats', 'halo']\n"
     ]
    }
   ],
   "source": [
    "answer3 = re.compile(r'\\b\\w{4,}\\b')\n",
    "string3 =  'I am someone that eats halo'\n",
    "print(answer3.findall(string3))"
   ]
  },
  {
   "cell_type": "raw",
   "id": "7935f571",
   "metadata": {},
   "source": [
    "Question4"
   ]
  },
  {
   "cell_type": "code",
   "execution_count": 536,
   "id": "b20614ee",
   "metadata": {},
   "outputs": [
    {
     "name": "stdout",
     "output_type": "stream",
     "text": [
      "['that', 'eats', 'haloe']\n"
     ]
    }
   ],
   "source": [
    "answer4 = re.compile(r'\\b\\w{4,5}\\b')\n",
    "string4 =  'I am someone that eats haloe'\n",
    "print(answer4.findall(string4))"
   ]
  },
  {
   "cell_type": "raw",
   "id": "4d3ee1a8",
   "metadata": {},
   "source": [
    "Question 5"
   ]
  },
  {
   "cell_type": "code",
   "execution_count": 531,
   "id": "911442a8",
   "metadata": {},
   "outputs": [
    {
     "name": "stdout",
     "output_type": "stream",
     "text": [
      "example.com\n",
      "hr@fliprobo.com\n",
      "github.com\n",
      "HelloDataScienceWorld\n",
      "DataScientist\n"
     ]
    }
   ],
   "source": [
    "pattern5 = re.compile(r'[^\\s()]+')\n",
    "string5 = [\"example (.com)\", \"hr@fliprobo (.com)\", \"github (.com)\", \"Hello (Data Science World)\", \"Data (Scientist)\"]\n",
    "\n",
    "for s5 in string5:\n",
    "    answer5 = pattern5.findall(s5)\n",
    "    print(''.join(answer5))\n"
   ]
  },
  {
   "cell_type": "raw",
   "id": "0bbef147",
   "metadata": {},
   "source": [
    "Question 6"
   ]
  },
  {
   "cell_type": "code",
   "execution_count": 254,
   "id": "3b96e08a",
   "metadata": {},
   "outputs": [
    {
     "name": "stdout",
     "output_type": "stream",
     "text": [
      "example \n",
      "hr@fliprobo \n",
      "github \n",
      "Hello \n",
      "Data \n"
     ]
    }
   ],
   "source": [
    "pattern4 = re.compile(r'^[^()]+')\n",
    "string4 = [\"example (.com)\", \"hr@fliprobo (.com)\", \"github (.com)\", \"Hello (Data Science World)\", \"Data (Scientist)\"]\n",
    "\n",
    "for s in string4:\n",
    "    answer4 = pattern4.findall(s)\n",
    "    print(''.join(answer4))\n"
   ]
  },
  {
   "cell_type": "raw",
   "id": "7a907832",
   "metadata": {},
   "source": [
    "Question 7"
   ]
  },
  {
   "cell_type": "code",
   "execution_count": 289,
   "id": "de499bf5",
   "metadata": {},
   "outputs": [
    {
     "name": "stdout",
     "output_type": "stream",
     "text": [
      "['', 'Importance', 'Of', 'Regular', 'Expressions', 'In', 'Python']\n"
     ]
    }
   ],
   "source": [
    "string7 =  'ImportanceOfRegularExpressionsInPython'\n",
    "answer7 = re.split(r'(?=[A-Z])',string7)\n",
    "print(answer7)"
   ]
  },
  {
   "cell_type": "raw",
   "id": "0b0bae33",
   "metadata": {},
   "source": [
    "Question 8"
   ]
  },
  {
   "cell_type": "code",
   "execution_count": 294,
   "id": "485207eb",
   "metadata": {},
   "outputs": [
    {
     "name": "stdout",
     "output_type": "stream",
     "text": [
      "RegularExpression 1IsAn 2ImportantTopic 3InPython\n"
     ]
    }
   ],
   "source": [
    "string8 =  'RegularExpression1IsAn2ImportantTopic3InPython'\n",
    "answer8 = re.sub(r'(?=\\d+)',\" \",string8)\n",
    "print(answer8)\n",
    "\n"
   ]
  },
  {
   "cell_type": "raw",
   "id": "cddf7fa2",
   "metadata": {},
   "source": [
    "Question 9: \n",
    "There are two answers for question 9.\n",
    "\n",
    "The first answer follows the instructions defined in the question, by inserting a space between words that start with a number or a capital letter (answer 9a)\n",
    "\n",
    "The second answer gives the same output as the expected output by inserting a space before and after any number present in the string (answer9b)"
   ]
  },
  {
   "cell_type": "code",
   "execution_count": 327,
   "id": "50d88855",
   "metadata": {},
   "outputs": [
    {
     "name": "stdout",
     "output_type": "stream",
     "text": [
      " Regular Expression 1 Is An 2 Important Topic 3 In Python\n",
      "RegularExpression 1 IsAn 2 ImportantTopic 3 InPython\n"
     ]
    }
   ],
   "source": [
    "string9a =  'RegularExpression1IsAn2ImportantTopic3InPython'\n",
    "answer9a = re.sub(r'(?=[A-Z]|[\\d])',\" \",string9a)\n",
    "print(answer9a)\n",
    "\n",
    "string9b =  'RegularExpression1IsAn2ImportantTopic3InPython'\n",
    "answer9b = re.sub(r'(?=[\\d])|(?<=[\\d])',\" \",string9b)\n",
    "print(answer9b)\n"
   ]
  },
  {
   "cell_type": "raw",
   "id": "cf9915f5",
   "metadata": {},
   "source": [
    "Question 10"
   ]
  },
  {
   "cell_type": "code",
   "execution_count": 340,
   "id": "b364fe65",
   "metadata": {},
   "outputs": [
    {
     "name": "stdout",
     "output_type": "stream",
     "text": [
      "0      Switze\n",
      "1      Icelan\n",
      "2      Denmar\n",
      "3      Norway\n",
      "4      Canada\n",
      "        ...  \n",
      "153    Rwanda\n",
      "154       NaN\n",
      "155       NaN\n",
      "156    Burund\n",
      "157       NaN\n",
      "Name: first_five_letters, Length: 158, dtype: object\n"
     ]
    }
   ],
   "source": [
    "df10 = pd.read_csv(\"https://raw.githubusercontent.com/dsrscientist/DSData/master/happiness_score_dataset.csv\")\n",
    "pattern10 = r'^([a-zA-Z]{6})'\n",
    "df10['first_five_letters'] = df10['Country'].str.extract(pattern10)\n",
    "\n",
    "print(df10['first_five_letters'])"
   ]
  },
  {
   "cell_type": "raw",
   "id": "be81d74c",
   "metadata": {},
   "source": [
    "Question 11"
   ]
  },
  {
   "cell_type": "code",
   "execution_count": 343,
   "id": "e47556b3",
   "metadata": {},
   "outputs": [
    {
     "name": "stdout",
     "output_type": "stream",
     "text": [
      "<regex.Match object; span=(0, 1), match='I'>\n",
      "<regex.Match object; span=(0, 3), match='2c5'>\n",
      "<regex.Match object; span=(0, 4), match='that'>\n",
      "<regex.Match object; span=(0, 1), match='_'>\n",
      "None\n"
     ]
    }
   ],
   "source": [
    "answer11 = re.compile(r'\\w+')\n",
    "string11 =  ['I love','2c5', 'that there are','_ a fe','$% thi*(op)']\n",
    "\n",
    "for s in string11:\n",
    "    print(re.match(answer11,s))"
   ]
  },
  {
   "cell_type": "code",
   "execution_count": null,
   "id": "35ab8d5a",
   "metadata": {},
   "outputs": [],
   "source": [
    "Question 12\n",
    "The specific number chosen for this question"
   ]
  },
  {
   "cell_type": "code",
   "execution_count": 346,
   "id": "7437ae3f",
   "metadata": {},
   "outputs": [
    {
     "name": "stdout",
     "output_type": "stream",
     "text": [
      "None\n",
      "<regex.Match object; span=(0, 1), match='2'>\n",
      "None\n",
      "None\n",
      "None\n"
     ]
    }
   ],
   "source": [
    "answer12 = re.compile(r'2')\n",
    "string12 =  ['I love','2c5', 'that there are','_ a fe','$% thi*(op)']\n",
    "\n",
    "for s12 in string12:\n",
    "    print(re.match(answer12,s12))"
   ]
  },
  {
   "cell_type": "code",
   "execution_count": null,
   "id": "059ec4f7",
   "metadata": {},
   "outputs": [],
   "source": [
    "Question 13\n",
    "\n",
    "Two ways to remove zeroes from IP address"
   ]
  },
  {
   "cell_type": "code",
   "execution_count": 362,
   "id": "e4dba3ef",
   "metadata": {},
   "outputs": [
    {
     "name": "stdout",
     "output_type": "stream",
     "text": [
      "61.35.25.142\n",
      "61.35.25.142\n"
     ]
    }
   ],
   "source": [
    "answer13 = r'0'\n",
    "string13 = '061.035.025.142'\n",
    "\n",
    "print(string13.replace(answer13,\"\"))\n",
    "      \n",
    "answer13 = r'0'\n",
    "string13 = '061.035.025.142'\n",
    "\n",
    "print(re.sub(answer13,\"\",string13))"
   ]
  },
  {
   "cell_type": "code",
   "execution_count": null,
   "id": "0fdcefc9",
   "metadata": {},
   "outputs": [],
   "source": [
    "Question 14"
   ]
  },
  {
   "cell_type": "code",
   "execution_count": 375,
   "id": "453ecd71",
   "metadata": {},
   "outputs": [
    {
     "name": "stdout",
     "output_type": "stream",
     "text": [
      "<regex.Match object; span=(3, 19), match='August 15th 1947'>\n"
     ]
    }
   ],
   "source": [
    "answer14 = r'\\w+\\s\\d{1,2}[a-z]{2}\\s\\d{4}'\n",
    "string14 = 'On August 15th 1947 that India was declared independent from British colonialism, and the reins of control were handed over to the leaders of the Country'\n",
    "\n",
    "\n",
    "print(re.search(answer14,string14))"
   ]
  },
  {
   "cell_type": "code",
   "execution_count": null,
   "id": "2fba1356",
   "metadata": {},
   "outputs": [],
   "source": [
    "Question 15\n",
    "\n",
    "What I understood from the question is to search for some literal strings with a criteria \n",
    "defined by myself (from 3 to 4 characters) in a string "
   ]
  },
  {
   "cell_type": "code",
   "execution_count": 382,
   "id": "2bafbe66",
   "metadata": {},
   "outputs": [
    {
     "name": "stdout",
     "output_type": "stream",
     "text": [
      "The\n",
      "fox\n",
      "over\n",
      "the\n",
      "lazy\n",
      "dog\n"
     ]
    }
   ],
   "source": [
    "pattern15 = r'(\\b[a-zA-Z]{3,4}\\b)'\n",
    "string15 = 'The quick brown fox jumps over the lazy dog.'\n",
    "answer15 = re.finditer(pattern15,string15)\n",
    "\n",
    "for s15 in answer15:\n",
    "    print(s15.group(1))"
   ]
  },
  {
   "cell_type": "code",
   "execution_count": null,
   "id": "6fe401c7",
   "metadata": {},
   "outputs": [],
   "source": [
    "Question 16"
   ]
  },
  {
   "cell_type": "code",
   "execution_count": 383,
   "id": "e176e59b",
   "metadata": {},
   "outputs": [
    {
     "name": "stdout",
     "output_type": "stream",
     "text": [
      "The match is: fox\n",
      "The start location: 16\n",
      "The end location: 19\n"
     ]
    }
   ],
   "source": [
    "pattern16 = r'fox'\n",
    "string16 = 'The quick brown fox jumps over the lazy dog.'\n",
    "answer16 = re.search(pattern16,string16)\n",
    "\n",
    "print('The match is:', answer16.group())\n",
    "print('The start location:', answer16.start())\n",
    "print('The end location:', answer16.end())"
   ]
  },
  {
   "cell_type": "code",
   "execution_count": null,
   "id": "9caccd7c",
   "metadata": {},
   "outputs": [],
   "source": [
    "Question 17"
   ]
  },
  {
   "cell_type": "code",
   "execution_count": 386,
   "id": "cbf08f57",
   "metadata": {},
   "outputs": [
    {
     "data": {
      "text/plain": [
       "<regex.Match object; span=(7, 16), match='exercises'>"
      ]
     },
     "execution_count": 386,
     "metadata": {},
     "output_type": "execute_result"
    }
   ],
   "source": [
    "pattern17 = r'exercises'\n",
    "string17 = 'Python exercises, PHP exercises, C# exercises'\n",
    "answer17 = re.search(pattern17,string17)\n",
    "answer17"
   ]
  },
  {
   "cell_type": "code",
   "execution_count": null,
   "id": "ead844ed",
   "metadata": {},
   "outputs": [],
   "source": [
    "Question 18"
   ]
  },
  {
   "cell_type": "code",
   "execution_count": 390,
   "id": "60b8472f",
   "metadata": {},
   "outputs": [
    {
     "name": "stdout",
     "output_type": "stream",
     "text": [
      "The match is: exercises\n",
      "The start location: 7\n",
      "The end location: 16\n",
      "The match is: exercises\n",
      "The start location: 22\n",
      "The end location: 31\n",
      "The match is: exercises\n",
      "The start location: 36\n",
      "The end location: 45\n"
     ]
    }
   ],
   "source": [
    "pattern18 = r'exercises'\n",
    "string18 = 'Python exercises, PHP exercises, C# exercises'\n",
    "answer18 = re.finditer(pattern18,string18)\n",
    "\n",
    "for match18 in answer18:\n",
    "    print('The match is:', match18.group())\n",
    "    print('The start location:', match18.start())\n",
    "    print('The end location:', match18.end())"
   ]
  },
  {
   "cell_type": "code",
   "execution_count": null,
   "id": "f7dbc27a",
   "metadata": {},
   "outputs": [],
   "source": [
    "Question 19"
   ]
  },
  {
   "cell_type": "code",
   "execution_count": 391,
   "id": "e8bf7391",
   "metadata": {},
   "outputs": [
    {
     "name": "stdout",
     "output_type": "stream",
     "text": [
      "I was born in 28-12-1998 in a city in Norther Scotland\n"
     ]
    }
   ],
   "source": [
    "answer13 = r'(\\d{4})-(\\d{2})-(\\d{2})'\n",
    "string13 = 'I was born in 1998-12-28 in a city in Norther Scotland'\n",
    "\n",
    "print(re.sub(answer13,r'\\3-\\2-\\1',string13))"
   ]
  },
  {
   "cell_type": "code",
   "execution_count": null,
   "id": "1e281c97",
   "metadata": {},
   "outputs": [],
   "source": [
    "Question 20"
   ]
  },
  {
   "cell_type": "code",
   "execution_count": 530,
   "id": "2786ce46",
   "metadata": {},
   "outputs": [
    {
     "name": "stdout",
     "output_type": "stream",
     "text": [
      "['01.12', '145.8', '3.01', '27.25', '0.25']\n"
     ]
    }
   ],
   "source": [
    "answer20 = re.compile(r'\\b\\d+\\.\\d{1,2}\\b') \n",
    "\n",
    "string20 =  '01.12 0132.123 2.31875 145.8 3.01 27.25 0.25'\n",
    "print(answer20.findall(string20))"
   ]
  },
  {
   "cell_type": "code",
   "execution_count": null,
   "id": "71bfad56",
   "metadata": {},
   "outputs": [],
   "source": [
    "Question 21"
   ]
  },
  {
   "cell_type": "code",
   "execution_count": 398,
   "id": "ec587e41",
   "metadata": {},
   "outputs": [
    {
     "name": "stdout",
     "output_type": "stream",
     "text": [
      "The match is: 1\n",
      "The start location: 17\n",
      "The end location: 18\n",
      "The match is: 2\n",
      "The start location: 22\n",
      "The end location: 23\n",
      "The match is: 3\n",
      "The start location: 37\n",
      "The end location: 38\n"
     ]
    }
   ],
   "source": [
    "string21 =  'RegularExpression1IsAn2ImportantTopic3InPython'\n",
    "pattern21 = r'\\d+'\n",
    "answer21 = re.finditer(pattern21,string21)\n",
    "\n",
    "for match21 in answer21:\n",
    "    print('The match is:', match21.group())\n",
    "    print('The start location:', match21.start())\n",
    "    print('The end location:', match21.end())"
   ]
  },
  {
   "cell_type": "code",
   "execution_count": null,
   "id": "732fd514",
   "metadata": {},
   "outputs": [],
   "source": [
    "Question 22"
   ]
  },
  {
   "cell_type": "code",
   "execution_count": 425,
   "id": "5944831f",
   "metadata": {},
   "outputs": [
    {
     "name": "stdout",
     "output_type": "stream",
     "text": [
      "950\n"
     ]
    }
   ],
   "source": [
    "string22 = 'My marks in each semester are: 947, 896, 926, 524, 734, 950, 642'\n",
    "pattern22 = r'\\d+'\n",
    "regex22 = re.finditer(pattern22,string22)\n",
    "\n",
    "list22 = []\n",
    "\n",
    "for match22 in regex22:\n",
    "    list22.append(int(match22.group()))\n",
    "\n",
    "if list22:\n",
    "    answer22 = max(list22)\n",
    "    print(answer22)"
   ]
  },
  {
   "cell_type": "code",
   "execution_count": null,
   "id": "359f7663",
   "metadata": {},
   "outputs": [],
   "source": [
    "Question 23"
   ]
  },
  {
   "cell_type": "code",
   "execution_count": 426,
   "id": "eadb9d8a",
   "metadata": {},
   "outputs": [
    {
     "name": "stdout",
     "output_type": "stream",
     "text": [
      " Regular Expression Is An Important Topic In Python\n"
     ]
    }
   ],
   "source": [
    "string23 =  'RegularExpressionIsAnImportantTopicInPython'\n",
    "answer23 = re.sub(r'(?=[A-Z])', ' ', string23)\n",
    "print(answer23)\n"
   ]
  },
  {
   "cell_type": "code",
   "execution_count": null,
   "id": "7455cdbc",
   "metadata": {},
   "outputs": [],
   "source": [
    "Question 24"
   ]
  },
  {
   "cell_type": "code",
   "execution_count": 504,
   "id": "7cf5b447",
   "metadata": {},
   "outputs": [
    {
     "name": "stdout",
     "output_type": "stream",
     "text": [
      "Regular\n",
      "Expression\n",
      "Is\n",
      "An\n",
      "Important\n",
      "Topic\n",
      "In\n",
      "Python\n"
     ]
    }
   ],
   "source": [
    "string24 = 'Regular Expression Is AnImportantTopicInPython'\n",
    "pattern24 = r'[A-Z][a-z]+'\n",
    "answer24 = re.findall(pattern24, string24)\n",
    "\n",
    "\n",
    "for match24 in answer24:\n",
    "    print(match24)"
   ]
  },
  {
   "cell_type": "code",
   "execution_count": null,
   "id": "0390f429",
   "metadata": {},
   "outputs": [],
   "source": [
    "Question 25"
   ]
  },
  {
   "cell_type": "code",
   "execution_count": 505,
   "id": "114dbbdb",
   "metadata": {},
   "outputs": [
    {
     "name": "stdout",
     "output_type": "stream",
     "text": [
      "Hello hello world\n"
     ]
    }
   ],
   "source": [
    "pattern25 = r'\\b(\\w+)(\\s\\1\\b)'\n",
    "string25 = \"Hello hello world world\"\n",
    "\n",
    "answer25 = re.sub(pattern25, r'\\1', string25)\n",
    "\n",
    "print(answer25)"
   ]
  },
  {
   "cell_type": "code",
   "execution_count": null,
   "id": "d2e4108e",
   "metadata": {},
   "outputs": [],
   "source": [
    "Question 26"
   ]
  },
  {
   "cell_type": "code",
   "execution_count": 511,
   "id": "180c5f28",
   "metadata": {},
   "outputs": [
    {
     "name": "stdout",
     "output_type": "stream",
     "text": [
      "Accept the string\n",
      "Do not accept the string\n"
     ]
    }
   ],
   "source": [
    "pattern26 = r'[a-zA-Z0-9]$'\n",
    "string26a = \"Hello hello world world0\"\n",
    "string26b = \"Hello hello world world*\"\n",
    "\n",
    "answer26a = re.findall(pattern26, string26a)\n",
    "answer26b = re.findall(pattern26, string26b)\n",
    "\n",
    "if answer26a:\n",
    "    print('Accept the string')\n",
    "else:\n",
    "    print('Do not accept the string')\n",
    "\n",
    "if answer26b:\n",
    "    print('Accept the string')\n",
    "else:\n",
    "    print('Do not accept the string')"
   ]
  },
  {
   "cell_type": "code",
   "execution_count": null,
   "id": "64fd7c53",
   "metadata": {},
   "outputs": [],
   "source": [
    "Question 27"
   ]
  },
  {
   "cell_type": "code",
   "execution_count": 513,
   "id": "c84b26cd",
   "metadata": {},
   "outputs": [
    {
     "name": "stdout",
     "output_type": "stream",
     "text": [
      "['#Doltiwal', '#xyzabc', '#Demonetization']\n"
     ]
    }
   ],
   "source": [
    "string27 = \"\"\"RT @kapil_kausik: #Doltiwal I mean #xyzabc is \"hurt\" by #Demonetization as the same has rendered USELESS <ed><U+00A0><U+00BD><ed><U+00B1><U+0089> \"acquired funds\" No wo\"\"\"\n",
    "pattern27 = r'#\\w+'\n",
    "\n",
    "answer27 = re.findall(pattern27,string27)\n",
    "print(answer27)"
   ]
  },
  {
   "cell_type": "code",
   "execution_count": null,
   "id": "adc22f5c",
   "metadata": {},
   "outputs": [],
   "source": [
    "Question 28"
   ]
  },
  {
   "cell_type": "code",
   "execution_count": 526,
   "id": "7b1bbf8d",
   "metadata": {},
   "outputs": [
    {
     "name": "stdout",
     "output_type": "stream",
     "text": [
      "@Jags123456 Bharat band on 28??<ed><ed>Those who  are protesting #demonetization  are all different party leaders\n"
     ]
    }
   ],
   "source": [
    "string28 = \"@Jags123456 Bharat band on 28??<ed><U+00A0><U+00BD><ed><U+00B8><U+0082>Those who  are protesting #demonetization  are all different party leaders\"\n",
    "pattern28 = r'<U\\+\\w+>'\n",
    "\n",
    "answer28 = re.sub(pattern28, '', string28)\n",
    "print(answer28)"
   ]
  },
  {
   "cell_type": "code",
   "execution_count": null,
   "id": "7fea1638",
   "metadata": {},
   "outputs": [],
   "source": [
    "Question 29"
   ]
  },
  {
   "cell_type": "code",
   "execution_count": 521,
   "id": "bd222d5b",
   "metadata": {},
   "outputs": [
    {
     "name": "stdout",
     "output_type": "stream",
     "text": [
      "['12-09-1992', '15-12-1999']\n"
     ]
    }
   ],
   "source": [
    "string29 = 'Ron was born on 12-09-1992 and he was admitted to school 15-12-1999.'\n",
    "pattern29 = '\\d{1,2}-\\d{1,2}-\\d{4}'\n",
    "\n",
    "answer29 = re.findall(pattern29, string29)\n",
    "print(answer29)"
   ]
  },
  {
   "cell_type": "code",
   "execution_count": null,
   "id": "6e157bd3",
   "metadata": {},
   "outputs": [],
   "source": [
    "Question 30"
   ]
  },
  {
   "cell_type": "code",
   "execution_count": 528,
   "id": "04519be1",
   "metadata": {},
   "outputs": [
    {
     "name": "stdout",
     "output_type": "stream",
     "text": [
      " following example creates  ArrayList  a capacity   elements. 4 elements   added   ArrayList   ArrayList  trimmed accordingly.\n"
     ]
    }
   ],
   "source": [
    "string30 = \"The following example creates an ArrayList with a capacity of 50 elements. 4 elements are then added to the ArrayList and the ArrayList is trimmed accordingly.\"\n",
    "pattern30 = re.compile(r'\\b\\w{2,4}\\b')\n",
    "\n",
    "answer30 = pattern30.sub('', string30)\n",
    "print(answer30)"
   ]
  }
 ],
 "metadata": {
  "kernelspec": {
   "display_name": "Python 3 (ipykernel)",
   "language": "python",
   "name": "python3"
  },
  "language_info": {
   "codemirror_mode": {
    "name": "ipython",
    "version": 3
   },
   "file_extension": ".py",
   "mimetype": "text/x-python",
   "name": "python",
   "nbconvert_exporter": "python",
   "pygments_lexer": "ipython3",
   "version": "3.11.5"
  }
 },
 "nbformat": 4,
 "nbformat_minor": 5
}
