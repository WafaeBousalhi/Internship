{
 "cells": [
  {
   "cell_type": "code",
   "execution_count": 6,
   "id": "9a5e48ec",
   "metadata": {},
   "outputs": [
    {
     "name": "stdout",
     "output_type": "stream",
     "text": [
      "Enter a number3\n",
      "6\n"
     ]
    }
   ],
   "source": [
    "n = int(input(\"Enter a number \"))\n",
    "\n",
    "def factorial(n):\n",
    "    if n == 0 | n == 1:\n",
    "        return 1\n",
    "    else:\n",
    "        return n * factorial(n-1)\n",
    "        \n",
    "print(factorial(n))\n",
    "        \n"
   ]
  },
  {
   "cell_type": "code",
   "execution_count": 14,
   "id": "fbd2be89",
   "metadata": {},
   "outputs": [
    {
     "name": "stdout",
     "output_type": "stream",
     "text": [
      "Enter a number13\n",
      "It is a prime number\n"
     ]
    }
   ],
   "source": [
    "# I used the definition given by Wikipedia of primality test:given an input number, between 2 and {\\sqrt {n}} (i.e., whether the division leaves no remainder). \n",
    "# If so, then n is composite. Otherwise, it is prime.\n",
    "\n",
    "\n",
    "n = int(input(\"Enter a number\"))\n",
    "\n",
    "primenumber = 'It is a prime number'\n",
    "compositenumber = 'It is a composite number'\n",
    "\n",
    "\n",
    "def prime(n):\n",
    "    if n < 2:\n",
    "        return primenumber\n",
    "    else:\n",
    "        for i in range(2, int(n**0.5) + 1 ):\n",
    "            if n % i == 0:\n",
    "                return compositenumber\n",
    "            else:\n",
    "                return primenumber\n",
    "        \n",
    "print(prime(n))\n",
    "        \n"
   ]
  },
  {
   "cell_type": "code",
   "execution_count": null,
   "id": "53958b8f",
   "metadata": {},
   "outputs": [],
   "source": [
    "import re\n",
    "\n",
    "string = input(\"Enter a string \")\n",
    "\n",
    "palindromicstring = 'It is a palindromic string'\n",
    "nonpalindromic = 'It is a not a palindromic string'\n",
    "\n",
    "\n",
    "def palindromic(string):\n",
    "    string = string.lower()\n",
    "    \n",
    "    if string == string[::-1]:\n",
    "        return palindromicstring\n",
    "    else:\n",
    "        return nonpalindromic\n",
    "\n",
    "print(palindromic(string))\n",
    "    "
   ]
  },
  {
   "cell_type": "code",
   "execution_count": null,
   "id": "f92825bc",
   "metadata": {},
   "outputs": [],
   "source": [
    "from math import sqrt\n",
    "\n",
    "side1 = int(input(\"Enter a number: \"))\n",
    "side2 = int(input(\"Enter a number: \"))\n",
    "\n",
    "side1type = input(\"Write H if the side is the hypotenuse, write C if the side is a cathetus: \")\n",
    "side2type = input(\"Write H if the side is the hypotenuse, write C if the side is a cathetus: \")\n",
    "\n",
    "def sidelength(side1, side1type, side2, side2type):\n",
    "    if side1type == 'C' and side2type == 'C':\n",
    "        return sqrt(pow(side1, 2) + pow(side2, 2))\n",
    "\n",
    "    elif side1type == 'H' and side2type == 'C':\n",
    "        return sqrt(pow(side1, 2) - pow(side2, 2))\n",
    "\n",
    "    else:\n",
    "        return sqrt(pow(side2, 2) - pow(side1, 2))\n",
    "\n",
    "print(sidelength(side1, side1type, side2, side2type))"
   ]
  },
  {
   "cell_type": "code",
   "execution_count": null,
   "id": "21c34548",
   "metadata": {},
   "outputs": [],
   "source": [
    "string = input(\"Enter a string: \")\n",
    "character = input(\"Enter a character: \")\n",
    "\n",
    "def character_frequency(character, string):\n",
    "    frequency = 0\n",
    "    for i in string:\n",
    "        if i == character:\n",
    "            frequency += 1\n",
    "    print(f\"The character '{character}' appears {frequency} times in the string.\")\n",
    "\n",
    "\n",
    "character_frequency(character, string)"
   ]
  }
 ],
 "metadata": {
  "kernelspec": {
   "display_name": "Python 3 (ipykernel)",
   "language": "python",
   "name": "python3"
  },
  "language_info": {
   "codemirror_mode": {
    "name": "ipython",
    "version": 3
   },
   "file_extension": ".py",
   "mimetype": "text/x-python",
   "name": "python",
   "nbconvert_exporter": "python",
   "pygments_lexer": "ipython3",
   "version": "3.11.5"
  }
 },
 "nbformat": 4,
 "nbformat_minor": 5
}
